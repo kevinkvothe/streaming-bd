{
 "cells": [
  {
   "cell_type": "markdown",
   "metadata": {},
   "source": [
    "# Trabajo de Streaming con Twitter y Spark.\n",
    "\n",
    "### Objetivo: Capturar y procesar tweets con el objetivo de analizar alguna situación, evento, etc actual ...\n",
    "\n",
    "#### Kevin Craig\n",
    "\n",
    "Nos vamos a centrar en Streaming directamente desde Twitter a Spark, sin pasar por MongoDB (aunque podríamos, pero seria Streaming a partir de una fuente de datos estática, y no es lo que buscamos)."
   ]
  },
  {
   "cell_type": "markdown",
   "metadata": {},
   "source": [
    "Este script se encargará de recibir los tweets enviados mediante el socket anterior a un objeto socketTextStream de spark. \n",
    "\n",
    "*Nota*: Para poder ejecutar este notebook (que es recomendable correrlo todo de una vez, por temas de coordinación temporal con el flujo de tweets) es necesario que esté corriendo de fondo tweet_stream_tweepy.ipynb.\n",
    "\n",
    "Cargamos las librerías y spark."
   ]
  },
  {
   "cell_type": "code",
   "execution_count": 2,
   "metadata": {},
   "outputs": [
    {
     "name": "stdout",
     "output_type": "stream",
     "text": [
      "\n"
     ]
    }
   ],
   "source": [
    "import os\n",
    "import time\n",
    "import matplotlib.pyplot as plt\n",
    "import seaborn as sns\n",
    "import collections\n",
    "import json\n",
    "import pprint\n",
    "import unidecode\n",
    "import numpy as np\n",
    "import pandas as pd\n",
    "\n",
    "# Pyspark\n",
    "import findspark\n",
    "findspark.init('/home/kubote/spark/spark-2.2.0-bin-hadoop2.7/')\n",
    "\n",
    "# Librerías derivadas de pyspark\n",
    "from pyspark import SparkContext\n",
    "from pyspark.streaming import StreamingContext\n",
    "from pyspark.sql import SQLContext, SparkSession, Row\n",
    "from pyspark.sql.functions import desc\n",
    "\n",
    "try:\n",
    "\n",
    "    sc.stop()\n",
    "\n",
    "except:\n",
    "\n",
    "    print(\"\")\n",
    "\n",
    "# No queremos excesivos logs\n",
    "def quiet_logs(sc):\n",
    "  logger = sc._jvm.org.apache.log4j\n",
    "  logger.LogManager.getLogger(\"org\"). setLevel( logger.Level.ERROR )\n",
    "  logger.LogManager.getLogger(\"akka\").setLevel( logger.Level.ERROR )\n",
    "\n",
    "\n",
    "# Creamos una instancia de spark\n",
    "sc = SparkContext(\"local[4]\")\n",
    "\n",
    "# Aplicamos el silencio de logs\n",
    "quiet_logs(sc)\n",
    "\n",
    "# Creamos un Streaming object con actualización de 1 segundos. Esto significa que a la hora de capturar\n",
    "# el flujo, cada 1 segundo StreamingContext me va a crear un nuevo batch, es decir, un nuevo \"paquete\"\n",
    "# de tweets.\n",
    "ssc = StreamingContext(sc, 1)\n",
    "\n",
    "# Creamos un SQLContext para poder ejecutar comandos sql en spark.\n",
    "sqlContext = SQLContext(sc)"
   ]
  },
  {
   "cell_type": "markdown",
   "metadata": {},
   "source": [
    "Creamos un Stream directo que conecta con el socket usado en tweet_stream_tweepy.py. Hay que asegurarse de que el host y el puerto sean iguales."
   ]
  },
  {
   "cell_type": "code",
   "execution_count": 3,
   "metadata": {},
   "outputs": [],
   "source": [
    "socket_stream = ssc.socketTextStream(\"127.0.0.1\", 9992)\n",
    "\n",
    "# Ahora seleccionamos la ventana a partir de la cual trabajar. Dado que hemos creado\n",
    "# un StreamingContext de 1 segundo, podemos definir el número de batches como el número\n",
    "# de segundos de la ventana. Usaremos ventanas de 15 segundos cada 15 segundos, de forma\n",
    "# que todos los datos que procesemos cada 15 segundos serán independientes (no tendremos\n",
    "# batches superpuestos). Esto es una prueba, en un experimento se pueden alargar los tiempos según sea conveniente.\n",
    "\n",
    "socket_stream = socket_stream.window(15, 15)"
   ]
  },
  {
   "cell_type": "markdown",
   "metadata": {},
   "source": [
    "Gestionamos la recepción a través del socket y adaptamos el stream."
   ]
  },
  {
   "cell_type": "code",
   "execution_count": 4,
   "metadata": {},
   "outputs": [],
   "source": [
    "# Definimos la clase Tweet para seleccionar lo que deseamos del Stream\n",
    "class Tweet(dict):\n",
    "\n",
    "    def __init__(self, tweet_in):\n",
    "\n",
    "        self['followers'] = tweet_in['user']['followers_count']\n",
    "        self['text'] = tweet_in['text']\n",
    "        self['hashtags'] = [x['text'] for x in tweet_in['entities']['hashtags']] if tweet_in['entities']['hashtags'] else None\n",
    "        self['has_hashtag'] = True if tweet_in['entities']['hashtags'] else False\n",
    "\n",
    "lines = socket_stream.map(lambda x: json.loads(x))\n",
    "tweets = lines.map(lambda x: Tweet(x))"
   ]
  },
  {
   "cell_type": "markdown",
   "metadata": {},
   "source": [
    "Comenzamos a calcular a partir de los tweets. Únicamente usaremos el campo de texto, a pesar de que en teoría podemos disponer de cualquiera, sin embargo, se antoja complicado trabajar, por ejemplo, con el campo \"hashtags\", y muchos otros no contienen información relevante o no contienen información."
   ]
  },
  {
   "cell_type": "code",
   "execution_count": 5,
   "metadata": {},
   "outputs": [],
   "source": [
    "\n",
    "# ================ Ahora buscamos obtener estadísticas: =================== #\n",
    "\n",
    "# ====================== Primer análisis: Hashtags =========================#\n",
    "# En primer lugar, una estadística de hashtags que utilice la gente que tweittee sobre cualquiera\n",
    "# de los 5 principales candidatos a presidente del gobierno.\n",
    "\n",
    "# Definimos una tupla nombrada para delimitar los hashtags y su repetición.\n",
    "valores_hash = (\"hashtag\", \"count\")\n",
    "hash_tuple = collections.namedtuple('hash_tuple', valores_hash)\n",
    "\n",
    "# Ahora vamos a transformar nuestro objeto DStream en un dataframe para manipularlo. Spliteamos por espacios.\n",
    "lines = tweets.map(lambda x: x['text'])\n",
    "\n",
    "(lines\n",
    "# Dividimos las lineas por espacios, formando palabras.\n",
    ".flatMap(lambda line: line.split(\" \"))\n",
    "\n",
    "# Filtramos por hashtag en minúsculas.\n",
    ".filter(lambda word: word.lower().startswith(\"#\"))\n",
    "\n",
    "# Mapeamos en forma de tupla con un 1 para contar.\n",
    ".map(lambda word: (word, 1))\n",
    "\n",
    "# Reducimos por palabra del hashtag.\n",
    ".reduceByKey(lambda a, b: a + b)\n",
    "\n",
    "# Transformamos en la tupla nombrada \"Tweet\".\n",
    ".map(lambda rec: hash_tuple(rec[0], rec[1]))\n",
    "\n",
    "# Para cada batch, pasamos el conjunto de tuplas nombradas a dataframes ordenando\n",
    "# por orden descendiente de su repetición.\n",
    ".foreachRDD(lambda rdd: rdd.toDF().sort(desc(\"count\"))\n",
    "\n",
    "# Limitamos la salida a 15 y creamos una tabla temporal para usar comandos SQL en ella.\n",
    ".registerTempTable(\"tabla_hashtags\")))\n",
    "\n",
    "\n",
    "# =================== Segundo análisis: popularidad ===================== #\n",
    "# Vamos a medir la popularidad de los 5 principales candidatos a presidente de España en las elecciones\n",
    "# del 28 de Abril. Lo haremos contando el número de veces que sus nombres son tweitteados en relación\n",
    "# al resto.\n",
    "\n",
    "# Definimos una tupla nombrada para delimitar los hashtags y su repetición.\n",
    "valores_pop = (\"candidato\", \"count\")\n",
    "pop_tuple = collections.namedtuple('pop_tuple', valores_pop)\n",
    "\n",
    "# Definimos los candidatos por los que detectar tweets.\n",
    "#candidatos_lower = ['trump', 'clinton', 'obama', 'abascal', 'iglesias', 'sanchez', 'rajoy', 'rivera']\n",
    "candidatos_lower = ['abascal', 'iglesias', 'sanchez', 'casado', 'rivera']\n",
    "\n",
    "# Cremos una función para crear una tabla con las veces que se menciona a cada candidato.\n",
    "def calcular_tabla(candidato):\n",
    "\n",
    "    nombre_tabla = \"tabla_pop_\" + candidato\n",
    "\n",
    "    # Ahora vamos a transformar nuestro objeto DStream en un dataframe para manipularlo. Spliteamos por espacios.\n",
    "    lines = tweets.map(lambda x: x['text'])\n",
    "    (lines\n",
    "    # Dividimos las lineas por espacios, formando palabras.\n",
    "    .flatMap(lambda line: line.replace(\"#\", \"\").replace(\"'\", \"\").replace(\",\", \"\").replace(\".\", \"\").split(\" \"))\n",
    "\n",
    "    # Filtramos por palabras clave en minúsculas y sin acentos.\n",
    "    .map(lambda word: (candidato in unidecode.unidecode(word).lower(), 1))\n",
    "\n",
    "    # Reducimos por True y False, siendo true y false los valores de palabra detectada y no.\n",
    "    .reduceByKey(lambda a, b: a + b)\n",
    "\n",
    "    # Transformamos en la tupla nombrada \"Tweet\".\n",
    "    .map(lambda tupla: pop_tuple(tupla[0], tupla[1]))\n",
    "\n",
    "    # Para cada batch, pasamos el conjunto de tuplas nombradas a dataframes ordenando\n",
    "    # por orden descendiente de su repetición.\n",
    "    .foreachRDD(lambda rdd: rdd.toDF().sort(desc(\"count\"))\n",
    "\n",
    "    # Limitamos la salida a 2 y creamos una tabla temporal para usar comandos SQL en ella.\n",
    "    .limit(2).registerTempTable(nombre_tabla)))\n",
    "\n",
    "# Llamadas para crear cada una de las tablas necesarias con cada batch.\n",
    "for cand in candidatos_lower:\n",
    "    calcular_tabla(cand)"
   ]
  },
  {
   "cell_type": "markdown",
   "metadata": {},
   "source": [
    "Iniciamos el Stream a través del socket. A partir de este paso, el flujo de datos será contínuo y no se podrá modificar el procesado, por lo que es importante contar con datos antes de empezar a procesar. Es por ello que fijamos un tiempo (delay) a partir del cual comenzar a procesar."
   ]
  },
  {
   "cell_type": "code",
   "execution_count": 6,
   "metadata": {},
   "outputs": [],
   "source": [
    "\n",
    "# Iniciamos el stream.\n",
    "ssc.start()\n",
    "\n",
    "# Introducimos un delay para que se calcule el primer batch y las tablas derivadas.\n",
    "time.sleep(22)\n"
   ]
  },
  {
   "cell_type": "markdown",
   "metadata": {},
   "source": [
    "Ahora realizaremos las dos tareas objetivo, el estudio de menciones de los candidatos a presidente del gobierno y su evolución temporal, y el estudio de los hashtags utilizados en relación a los mismos."
   ]
  },
  {
   "cell_type": "code",
   "execution_count": 7,
   "metadata": {},
   "outputs": [
    {
     "data": {
      "image/png": "[encoded data removed]",
      "text/plain": [
       "<Figure size 432x288 with 1 Axes>"
      ]
     },
     "metadata": {
      "needs_background": "light"
     },
     "output_type": "display_data"
    },
    {
     "data": {
      "image/png": "[encoded data removed]",
      "text/plain": [
       "<Figure size 432x288 with 1 Axes>"
      ]
     },
     "metadata": {
      "needs_background": "light"
     },
     "output_type": "display_data"
    },
    {
     "data": {
      "image/png": "[encoded data removed]",
      "text/plain": [
       "<Figure size 432x288 with 1 Axes>"
      ]
     },
     "metadata": {
      "needs_background": "light"
     },
     "output_type": "display_data"
    },
    {
     "data": {
      "image/png": "[encoded data removed]",
      "text/plain": [
       "<Figure size 432x288 with 1 Axes>"
      ]
     },
     "metadata": {
      "needs_background": "light"
     },
     "output_type": "display_data"
    },
    {
     "data": {
      "image/png": "[encoded data removed]",
      "text/plain": [
       "<Figure size 432x288 with 1 Axes>"
      ]
     },
     "metadata": {
      "needs_background": "light"
     },
     "output_type": "display_data"
    }
   ],
   "source": [
    "\n",
    "# Diccionario para crear el dataframe.\n",
    "df_dict = {\"candidatos\": candidatos_lower, \"suma_1\": np.zeros(len(candidatos_lower)), \"suma_2\": np.zeros(len(candidatos_lower)), \"suma_3\": np.zeros(len(candidatos_lower)), \"suma_4\": np.zeros(len(candidatos_lower)), \"suma_5\": np.zeros(len(candidatos_lower))}\n",
    "\n",
    "# Definimos dos dataframes vacíos con los candidatos y sus menciones y otro con los hashtags y su conteo.\n",
    "df_can = pd.DataFrame(df_dict)\n",
    "df_hashtags_fin = pd.DataFrame({'hashtag': [], 'count': []})\n",
    "\n",
    "# Rellenamos el dataframe anterior de forma acumulativa en 5 ciclos.\n",
    "for a in range(5):\n",
    "\n",
    "    for i in candidatos_lower:\n",
    "\n",
    "        nombre_tabla = \"tabla_pop_\" + i\n",
    "\n",
    "        # Añadimos los valores de True al dataframe creado anteriormente.\n",
    "        top_pop = sqlContext.sql('Select candidato, count from ' + nombre_tabla)\n",
    "        tabla = top_pop.toPandas()\n",
    "\n",
    "        # Nos aseguramos de que exista un valor para añadir, en caso contrario añadimos 0.\n",
    "        if tabla.shape[0] > 1:\n",
    "            val = tabla.iloc[np.where(tabla['candidato'] == True)[0], 1]\n",
    "            val = val[1]\n",
    "        else:\n",
    "            val = 0\n",
    "\n",
    "        # Sumamos a los 0s los valores obtenidos.\n",
    "        df_can.iloc[np.where(df_can['candidatos'] == i)[0], a + 1] += val\n",
    "\n",
    "        # Necesitamos sumar las nuevas menciones para mostrar el aumento.\n",
    "        if a > 0:\n",
    "\n",
    "            df_can.iloc[np.where(df_can['candidatos'] == i)[0], a + 1] += df_can.iloc[np.where(df_can['candidatos'] == i)[0], a]\n",
    "\n",
    "        # Hacemos algo similar con los hashtags, hacemos un merge conservando todos los hashtags diferentes\n",
    "        # y sumando los ya utilizados.\n",
    "        top_hashtags = sqlContext.sql('Select hashtag, count from tabla_hashtags')\n",
    "        df_hashtags = top_hashtags.toPandas()\n",
    "\n",
    "        df_hashtags_fin = df_hashtags_fin.set_index('hashtag').add(df_hashtags.set_index('hashtag'), fill_value=0).reset_index()\n",
    "\n",
    "    # Mostramos la comparativa de menciones en cada iteración.\n",
    "    x = df_can['candidatos']\n",
    "    y = df_can.iloc[:, 1:(a + 2)]\n",
    "\n",
    "    colores = ['red', 'blue', 'green', 'black', 'pink']\n",
    "    for o in range(a + 1):\n",
    "\n",
    "        plt.bar([idx + 0.8*o/(a + 1) for idx in range(len(x))], y.iloc[:, o], color = colores[o], width = 0.8/(a + 1), tick_label = x)\n",
    "    plt.show()\n",
    "\n",
    "    # Introducimos un delay igual al tiempo entre ventanas para que se calcule el nuevo batch y tablas derivadas.\n",
    "    time.sleep(15)\n"
   ]
  },
  {
   "cell_type": "markdown",
   "metadata": {},
   "source": [
    "Realizamos los plots finales y los guardamos. También mostramos las tablas obtenidas."
   ]
  },
  {
   "cell_type": "code",
   "execution_count": 8,
   "metadata": {},
   "outputs": [
    {
     "data": {
      "image/png": "[encoded data removed]",
      "text/plain": [
       "<Figure size 432x288 with 1 Axes>"
      ]
     },
     "metadata": {
      "needs_background": "light"
     },
     "output_type": "display_data"
    },
    {
     "data": {
      "image/png": "[encoded data removed]",
      "text/plain": [
       "<Figure size 1080x720 with 1 Axes>"
      ]
     },
     "metadata": {
      "needs_background": "light"
     },
     "output_type": "display_data"
    },
    {
     "name": "stdout",
     "output_type": "stream",
     "text": [
      "  candidatos  suma_1  suma_2  suma_3  suma_4  suma_5\n",
      "0    abascal     7.0    18.0    25.0    33.0    34.0\n",
      "1   iglesias     8.0    18.0    34.0    51.0    66.0\n",
      "2    sanchez    13.0    19.0    42.0    58.0    72.0\n",
      "3     casado     7.0    26.0    32.0    39.0    44.0\n",
      "4     rivera    11.0    27.0    36.0    55.0    71.0\n",
      "\n",
      "\n",
      "                                              hashtag  count\n",
      "0                                                #15M    9.0\n",
      "1                                          #25deAbril    9.0\n",
      "2                                                #28A   15.0\n",
      "3                                            #28A\\nNo    1.0\n",
      "4                                             #Carrió    9.0\n",
      "5                                             #Casado   15.0\n",
      "6                                            #Córdoba    9.0\n",
      "7                                   #ElDebateDecisivo   10.0\n",
      "8                                  #ElDebateDecisivo?   15.0\n",
      "9                                #EleccionesGenerales   15.0\n",
      "10                                             #López   15.0\n",
      "11                                            #MUNMCI    1.0\n",
      "12                                                #PP   15.0\n",
      "13                                          #Portugal    9.0\n",
      "14                                        #Puraverdad    9.0\n",
      "15                                            #Rivera   18.0\n",
      "16  #TuAbandonoMePuedeMatar\\n#sosprisiones\\n#equip...    9.0\n",
      "17               #Vota!!\\n#28AVotoFuturoPensiones\\nUn    2.0\n",
      "18                                             #Zoido   15.0\n",
      "19                                   #fetish#Amateur…    9.0\n",
      "20                                        #nolesvotes    9.0\n",
      "21                                           #porngay    9.0\n",
      "22                                          #silencio   18.0\n"
     ]
    }
   ],
   "source": [
    "\n",
    "# Plots finales:\n",
    "\n",
    "# de menciones:\n",
    "x = df_can['candidatos']\n",
    "y = df_can.iloc[:, 1:(a + 2)]\n",
    "\n",
    "colores = ['red', 'blue', 'green', 'black', 'pink']\n",
    "for o in range(a + 1):\n",
    "\n",
    "    plt.bar([idx + 0.8*o/(a + 1) for idx in range(len(x))], y.iloc[:, o], color = colores[o], width = 0.8/(a + 1), tick_label = x)\n",
    "plt.title(\"Número de menciones acumuladas cada 15 segundos por candidato.\")\n",
    "plt.savefig('menciones.png')\n",
    "plt.show()\n",
    "\n",
    "# de hashtags.\n",
    "x = df_hashtags_fin['hashtag']\n",
    "y = df_hashtags_fin.iloc[:, 1]\n",
    "\n",
    "plt.figure(figsize = (15, 10))\n",
    "plt.barh([idx for idx in range(len(x))], y, tick_label = x)\n",
    "plt.title(\"Hashtags más utilizados en tweets mencionando a alguno de los 5 candidatos a presidente del gobierno.\")\n",
    "plt.savefig('hashtags.png')\n",
    "plt.show()\n",
    "\n",
    "print(df_can)\n",
    "\n",
    "print(\"\\n\")\n",
    "\n",
    "print(df_hashtags_fin)\n"
   ]
  },
  {
   "cell_type": "markdown",
   "metadata": {},
   "source": [
    "Finalizamos deteniendo el streaming."
   ]
  },
  {
   "cell_type": "code",
   "execution_count": 9,
   "metadata": {},
   "outputs": [
    {
     "name": "stdout",
     "output_type": "stream",
     "text": [
      " \n"
     ]
    }
   ],
   "source": [
    "\n",
    "# Detenemos el streaming.\n",
    "ssc.stop()\n",
    "\n",
    "# Limpiamos el puerto utilizado para poder usarlo inmediatamente después.\n",
    "os.system('kill $(lsof -ti tcp:9992)')\n",
    "os.system('fuser 9992/tcp')\n",
    "\n",
    "print(\" \")\n"
   ]
  }
 ],
 "metadata": {
  "kernelspec": {
   "display_name": "Python 3",
   "language": "python",
   "name": "python3"
  },
  "language_info": {
   "codemirror_mode": {
    "name": "ipython",
    "version": 3
   },
   "file_extension": ".py",
   "mimetype": "text/x-python",
   "name": "python",
   "nbconvert_exporter": "python",
   "pygments_lexer": "ipython3",
   "version": "3.7.3"
  }
 },
 "nbformat": 4,
 "nbformat_minor": 2
}
